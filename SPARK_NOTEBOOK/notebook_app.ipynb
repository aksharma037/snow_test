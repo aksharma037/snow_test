{
 "metadata": {
  "kernelspec": {
   "display_name": "Streamlit Notebook",
   "name": "streamlit"
  }
 },
 "nbformat_minor": 5,
 "nbformat": 4,
 "cells": [
  {
   "cell_type": "code",
   "id": "3775908f-ca36-4846-8f38-5adca39217f2",
   "metadata": {
    "language": "python",
    "name": "cell1",
    "collapsed": false
   },
   "source": "from snowflake.snowpark.context import get_active_session\nfrom snowflake.snowpark.functions import col,round,month,sum",
   "execution_count": null,
   "outputs": []
  },
  {
   "cell_type": "code",
   "id": "b709849b-c44a-4dfc-8010-482a29ef1a43",
   "metadata": {
    "language": "python",
    "name": "cell2",
    "collapsed": false
   },
   "outputs": [],
   "source": "spark=get_active_session()\ndf=spark.sql(\"select * from INVENTORY_DB.PUBLIC.orders\")",
   "execution_count": null
  },
  {
   "cell_type": "code",
   "id": "7c26cbb3-0b78-478a-833e-27f46c8d20eb",
   "metadata": {
    "language": "python",
    "name": "cell3",
    "collapsed": false
   },
   "outputs": [],
   "source": "df_2 = df.with_column('total_amount',round(col('order_amount')+col('tax_amount'),2))\ndf_2",
   "execution_count": null
  },
  {
   "cell_type": "code",
   "id": "8d4ecc6b-d712-4755-a675-228f0d9fbba4",
   "metadata": {
    "language": "python",
    "name": "cell4",
    "collapsed": false
   },
   "outputs": [],
   "source": "df_3=df_2.group_by(month('order_date')).agg(sum('total_amount').alias('Total_amount_by_month'))\\\n        .order_by('Total_amount_by_month')",
   "execution_count": null
  },
  {
   "cell_type": "code",
   "id": "863ed284-7b85-4d7f-88ed-85c807cdb95f",
   "metadata": {
    "language": "python",
    "name": "cell5",
    "collapsed": false
   },
   "outputs": [],
   "source": "df_final=df_3.with_column_renamed(\"MONTH(ORDER_DATE)\",\"month\")",
   "execution_count": null
  },
  {
   "cell_type": "code",
   "id": "b4b77f89-6256-4d04-8631-31037eee3ffb",
   "metadata": {
    "language": "python",
    "name": "cell6",
    "collapsed": false
   },
   "outputs": [],
   "source": "df_final.write.mode(\"append\").save_as_table(table_name='Month_Sales',table_type='transient')",
   "execution_count": null
  },
  {
   "cell_type": "code",
   "id": "3983deda-823b-49e7-88c0-45c30a1310bd",
   "metadata": {
    "language": "sql",
    "name": "cell7"
   },
   "outputs": [],
   "source": "select * from month_sales;",
   "execution_count": null
  }
 ]
}