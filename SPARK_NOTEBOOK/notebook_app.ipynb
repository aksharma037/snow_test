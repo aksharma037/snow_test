{
 "metadata": {
  "kernelspec": {
   "display_name": "Streamlit Notebook",
   "name": "streamlit"
  }
 },
 "nbformat_minor": 5,
 "nbformat": 4,
 "cells": [
  {
   "cell_type": "code",
   "id": "3775908f-ca36-4846-8f38-5adca39217f2",
   "metadata": {
    "language": "python",
    "name": "cell1",
    "collapsed": false
   },
   "source": "from snowflake.snowpark.context import get_active_session\nfrom snowflake.snowpark.functions import col,round",
   "execution_count": null,
   "outputs": []
  },
  {
   "cell_type": "code",
   "id": "b709849b-c44a-4dfc-8010-482a29ef1a43",
   "metadata": {
    "language": "python",
    "name": "cell2",
    "collapsed": false
   },
   "outputs": [],
   "source": "spark=get_active_session()\ndf=spark.sql(\"select * from INVENTORY_DB.PUBLIC.orders\")",
   "execution_count": null
  },
  {
   "cell_type": "code",
   "id": "7c26cbb3-0b78-478a-833e-27f46c8d20eb",
   "metadata": {
    "language": "python",
    "name": "cell3",
    "collapsed": false
   },
   "outputs": [],
   "source": "df_2 = df.with_column('total_amount',round(col('order_amount')+col('tax_amount'),2))\ndf_2",
   "execution_count": null
  }
 ]
}